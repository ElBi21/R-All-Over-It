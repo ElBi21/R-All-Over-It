{
 "cells": [
  {
   "cell_type": "markdown",
   "metadata": {},
   "source": [
    "<h1 align=\"center\"><b>Data Management and Analysis Unit 2 - Using <code>R</code></b></h1>\n",
    "\n",
    "---"
   ]
  },
  {
   "cell_type": "markdown",
   "metadata": {},
   "source": [
    "## $\\rightarrow$ Table of contents\n",
    "\n",
    "[2) Managing Data](#2-managing-data)\n",
    " - [2.1) Data Frames](#21-data-frames)\n",
    " - [2.2) Random Values](#22-random-values)\n",
    "\n",
    "---"
   ]
  },
  {
   "cell_type": "markdown",
   "metadata": {},
   "source": [
    "## 2) Managing Data"
   ]
  },
  {
   "cell_type": "markdown",
   "metadata": {},
   "source": [
    "When dealing with datasets, most of the time there could be a lot of noise in such dataset. How can we discover them? We can compare our dataset with a random dataset. For instance, suppose the following problem:\n",
    "\n",
    "> We have, in a Data Management course, 7 students that passed the exam: their grades are the following:\n",
    "> $$ x \\; = \\; \\begin{bmatrix} 26 & 28 & 22 & 23 & 18 & 31 & 30 \\end{bmatrix}$$\n",
    ">\n",
    "> The mean of the grades is $\\overline{x} \\; = \\; 25,4$, while the standard deviation is equal to $\\sigma \\; = \\; 4,68$"
   ]
  },
  {
   "cell_type": "code",
   "execution_count": 1,
   "metadata": {
    "vscode": {
     "languageId": "r"
    }
   },
   "outputs": [
    {
     "data": {
      "text/html": [
       "25.4285714285714"
      ],
      "text/latex": [
       "25.4285714285714"
      ],
      "text/markdown": [
       "25.4285714285714"
      ],
      "text/plain": [
       "[1] 25.42857"
      ]
     },
     "metadata": {},
     "output_type": "display_data"
    },
    {
     "data": {
      "text/html": [
       "4.68533680244878"
      ],
      "text/latex": [
       "4.68533680244878"
      ],
      "text/markdown": [
       "4.68533680244878"
      ],
      "text/plain": [
       "[1] 4.685337"
      ]
     },
     "metadata": {},
     "output_type": "display_data"
    }
   ],
   "source": [
    "x <- c(26, 28, 22, 23, 18, 31, 30)\n",
    "\n",
    "mean(x)     # Mean of x\n",
    "sd(x)       # Standard Deviation of x"
   ]
  },
  {
   "cell_type": "markdown",
   "metadata": {},
   "source": [
    "---"
   ]
  },
  {
   "cell_type": "markdown",
   "metadata": {},
   "source": [
    "### 2.1) Data Frames"
   ]
  },
  {
   "cell_type": "markdown",
   "metadata": {},
   "source": [
    "We previously saw in the first part that a dataset, such as `iris`, is a table collecting various data. Most of dataframes are included in the `datasets` package, but we can also create our owns. For instance, we can create one from a matrix: we can do it with the `data.frame()` function"
   ]
  },
  {
   "cell_type": "code",
   "execution_count": 6,
   "metadata": {
    "vscode": {
     "languageId": "r"
    }
   },
   "outputs": [
    {
     "data": {
      "text/html": [
       "<table class=\"dataframe\">\n",
       "<caption>A data.frame: 3 x 3</caption>\n",
       "<thead>\n",
       "\t<tr><th scope=col>X1</th><th scope=col>X2</th><th scope=col>X3</th></tr>\n",
       "\t<tr><th scope=col>&lt;dbl&gt;</th><th scope=col>&lt;dbl&gt;</th><th scope=col>&lt;dbl&gt;</th></tr>\n",
       "</thead>\n",
       "<tbody>\n",
       "\t<tr><td>1</td><td>0</td><td>0</td></tr>\n",
       "\t<tr><td>0</td><td>1</td><td>0</td></tr>\n",
       "\t<tr><td>0</td><td>0</td><td>1</td></tr>\n",
       "</tbody>\n",
       "</table>\n"
      ],
      "text/latex": [
       "A data.frame: 3 x 3\n",
       "\\begin{tabular}{lll}\n",
       " X1 & X2 & X3\\\\\n",
       " <dbl> & <dbl> & <dbl>\\\\\n",
       "\\hline\n",
       "\t 1 & 0 & 0\\\\\n",
       "\t 0 & 1 & 0\\\\\n",
       "\t 0 & 0 & 1\\\\\n",
       "\\end{tabular}\n"
      ],
      "text/markdown": [
       "\n",
       "A data.frame: 3 x 3\n",
       "\n",
       "| X1 &lt;dbl&gt; | X2 &lt;dbl&gt; | X3 &lt;dbl&gt; |\n",
       "|---|---|---|\n",
       "| 1 | 0 | 0 |\n",
       "| 0 | 1 | 0 |\n",
       "| 0 | 0 | 1 |\n",
       "\n"
      ],
      "text/plain": [
       "  X1 X2 X3\n",
       "1 1  0  0 \n",
       "2 0  1  0 \n",
       "3 0  0  1 "
      ]
     },
     "metadata": {},
     "output_type": "display_data"
    },
    {
     "data": {
      "text/html": [
       "'data.frame'"
      ],
      "text/latex": [
       "'data.frame'"
      ],
      "text/markdown": [
       "'data.frame'"
      ],
      "text/plain": [
       "[1] \"data.frame\""
      ]
     },
     "metadata": {},
     "output_type": "display_data"
    }
   ],
   "source": [
    "ident <- matrix(c(1, 0, 0, 0, 1, 0, 0, 0, 1), ncol = 3)\n",
    "dframe <- data.frame(ident)\n",
    "\n",
    "dframe\n",
    "class(dframe)   # Check that dframe is an actual dataframe"
   ]
  },
  {
   "cell_type": "markdown",
   "metadata": {},
   "source": [
    "We can also establish the names of the three columns by assigning to `names(name_of_dataframe)` a collection of names:"
   ]
  },
  {
   "cell_type": "code",
   "execution_count": 4,
   "metadata": {
    "vscode": {
     "languageId": "r"
    }
   },
   "outputs": [
    {
     "data": {
      "text/html": [
       "<table class=\"dataframe\">\n",
       "<caption>A data.frame: 3 x 3</caption>\n",
       "<thead>\n",
       "\t<tr><th scope=col>Val1</th><th scope=col>Val2</th><th scope=col>Val3</th></tr>\n",
       "\t<tr><th scope=col>&lt;dbl&gt;</th><th scope=col>&lt;dbl&gt;</th><th scope=col>&lt;dbl&gt;</th></tr>\n",
       "</thead>\n",
       "<tbody>\n",
       "\t<tr><td>1</td><td>0</td><td>0</td></tr>\n",
       "\t<tr><td>0</td><td>1</td><td>0</td></tr>\n",
       "\t<tr><td>0</td><td>0</td><td>1</td></tr>\n",
       "</tbody>\n",
       "</table>\n"
      ],
      "text/latex": [
       "A data.frame: 3 x 3\n",
       "\\begin{tabular}{lll}\n",
       " Val1 & Val2 & Val3\\\\\n",
       " <dbl> & <dbl> & <dbl>\\\\\n",
       "\\hline\n",
       "\t 1 & 0 & 0\\\\\n",
       "\t 0 & 1 & 0\\\\\n",
       "\t 0 & 0 & 1\\\\\n",
       "\\end{tabular}\n"
      ],
      "text/markdown": [
       "\n",
       "A data.frame: 3 x 3\n",
       "\n",
       "| Val1 &lt;dbl&gt; | Val2 &lt;dbl&gt; | Val3 &lt;dbl&gt; |\n",
       "|---|---|---|\n",
       "| 1 | 0 | 0 |\n",
       "| 0 | 1 | 0 |\n",
       "| 0 | 0 | 1 |\n",
       "\n"
      ],
      "text/plain": [
       "  Val1 Val2 Val3\n",
       "1 1    0    0   \n",
       "2 0    1    0   \n",
       "3 0    0    1   "
      ]
     },
     "metadata": {},
     "output_type": "display_data"
    }
   ],
   "source": [
    "names(dframe) <- c(\"Val1\", \"Val2\", \"Val3\")\n",
    "\n",
    "dframe"
   ]
  },
  {
   "cell_type": "markdown",
   "metadata": {},
   "source": [
    "---"
   ]
  },
  {
   "cell_type": "markdown",
   "metadata": {},
   "source": [
    "### 2.2) Random Values"
   ]
  },
  {
   "cell_type": "markdown",
   "metadata": {},
   "source": [
    "In `R` we can set a seed for all the random numbers generated with the `set.seed()` function. With that seed, all the random numbers generated by `R` will be the same. The `rnorm()` function generates a normal distribution with random values.\n",
    "> ```R\n",
    "> rnorm(samples, mean = x, sd = s)\n",
    "> ```\n",
    "> where:\n",
    ">  - `samples` is the number of samples in the distribution;\n",
    ">  - `mean = x` is the mean that we want to give to our distribution;\n",
    ">  - `sd = s` is the standard deviation that we want to give to our distribution."
   ]
  },
  {
   "cell_type": "code",
   "execution_count": 24,
   "metadata": {
    "vscode": {
     "languageId": "r"
    }
   },
   "outputs": [
    {
     "data": {
      "text/html": [
       "<style>\n",
       ".list-inline {list-style: none; margin:0; padding: 0}\n",
       ".list-inline>li {display: inline-block}\n",
       ".list-inline>li:not(:last-child)::after {content: \"\\00b7\"; padding: 0 .5ex}\n",
       "</style>\n",
       "<ol class=list-inline><li>157.870402565105</li><li>208.598095571504</li><li>155.372577388372</li><li>185.415293862317</li><li>186.805145845892</li><li>147.792074332586</li><li>173.448411197908</li><li>191.45533083316</li><li>132.175883263617</li><li>156.635894401144</li></ol>\n"
      ],
      "text/latex": [
       "\\begin{enumerate*}\n",
       "\\item 157.870402565105\n",
       "\\item 208.598095571504\n",
       "\\item 155.372577388372\n",
       "\\item 185.415293862317\n",
       "\\item 186.805145845892\n",
       "\\item 147.792074332586\n",
       "\\item 173.448411197908\n",
       "\\item 191.45533083316\n",
       "\\item 132.175883263617\n",
       "\\item 156.635894401144\n",
       "\\end{enumerate*}\n"
      ],
      "text/markdown": [
       "1. 157.870402565105\n",
       "2. 208.598095571504\n",
       "3. 155.372577388372\n",
       "4. 185.415293862317\n",
       "5. 186.805145845892\n",
       "6. 147.792074332586\n",
       "7. 173.448411197908\n",
       "8. 191.45533083316\n",
       "9. 132.175883263617\n",
       "10. 156.635894401144\n",
       "\n",
       "\n"
      ],
      "text/plain": [
       " [1] 157.8704 208.5981 155.3726 185.4153 186.8051 147.7921 173.4484 191.4553\n",
       " [9] 132.1759 156.6359"
      ]
     },
     "metadata": {},
     "output_type": "display_data"
    },
    {
     "data": {
      "text/html": [
       "<style>\n",
       ".list-inline {list-style: none; margin:0; padding: 0}\n",
       ".list-inline>li {display: inline-block}\n",
       ".list-inline>li:not(:last-child)::after {content: \"\\00b7\"; padding: 0 .5ex}\n",
       "</style>\n",
       "<ol class=list-inline><li>188.664473660501</li><li>143.652947845303</li><li>171.391707582522</li><li>142.872833721594</li><li>119.096995508291</li><li>170.644689759776</li><li>197.999481814879</li><li>171.916909729947</li><li>148.869980964486</li><li>126.94098403831</li></ol>\n"
      ],
      "text/latex": [
       "\\begin{enumerate*}\n",
       "\\item 188.664473660501\n",
       "\\item 143.652947845303\n",
       "\\item 171.391707582522\n",
       "\\item 142.872833721594\n",
       "\\item 119.096995508291\n",
       "\\item 170.644689759776\n",
       "\\item 197.999481814879\n",
       "\\item 171.916909729947\n",
       "\\item 148.869980964486\n",
       "\\item 126.94098403831\n",
       "\\end{enumerate*}\n"
      ],
      "text/markdown": [
       "1. 188.664473660501\n",
       "2. 143.652947845303\n",
       "3. 171.391707582522\n",
       "4. 142.872833721594\n",
       "5. 119.096995508291\n",
       "6. 170.644689759776\n",
       "7. 197.999481814879\n",
       "8. 171.916909729947\n",
       "9. 148.869980964486\n",
       "10. 126.94098403831\n",
       "\n",
       "\n"
      ],
      "text/plain": [
       " [1] 188.6645 143.6529 171.3917 142.8728 119.0970 170.6447 197.9995 171.9169\n",
       " [9] 148.8700 126.9410"
      ]
     },
     "metadata": {},
     "output_type": "display_data"
    }
   ],
   "source": [
    "heigth <- rnorm(10, mean = 170, sd = 20)\n",
    "weight <- rnorm(10, mean = 150, sd = 20)\n",
    "\n",
    "heigth\n",
    "weight"
   ]
  },
  {
   "cell_type": "markdown",
   "metadata": {},
   "source": [
    "For practical purpouses, we can also round up all the digits:"
   ]
  },
  {
   "cell_type": "code",
   "execution_count": 29,
   "metadata": {
    "vscode": {
     "languageId": "r"
    }
   },
   "outputs": [
    {
     "data": {
      "text/html": [
       "<style>\n",
       ".list-inline {list-style: none; margin:0; padding: 0}\n",
       ".list-inline>li {display: inline-block}\n",
       ".list-inline>li:not(:last-child)::after {content: \"\\00b7\"; padding: 0 .5ex}\n",
       "</style>\n",
       "<ol class=list-inline><li>157.87</li><li>208.6</li><li>155.37</li><li>185.42</li><li>186.81</li><li>147.79</li><li>173.45</li><li>191.46</li><li>132.18</li><li>156.64</li></ol>\n"
      ],
      "text/latex": [
       "\\begin{enumerate*}\n",
       "\\item 157.87\n",
       "\\item 208.6\n",
       "\\item 155.37\n",
       "\\item 185.42\n",
       "\\item 186.81\n",
       "\\item 147.79\n",
       "\\item 173.45\n",
       "\\item 191.46\n",
       "\\item 132.18\n",
       "\\item 156.64\n",
       "\\end{enumerate*}\n"
      ],
      "text/markdown": [
       "1. 157.87\n",
       "2. 208.6\n",
       "3. 155.37\n",
       "4. 185.42\n",
       "5. 186.81\n",
       "6. 147.79\n",
       "7. 173.45\n",
       "8. 191.46\n",
       "9. 132.18\n",
       "10. 156.64\n",
       "\n",
       "\n"
      ],
      "text/plain": [
       " [1] 157.87 208.60 155.37 185.42 186.81 147.79 173.45 191.46 132.18 156.64"
      ]
     },
     "metadata": {},
     "output_type": "display_data"
    },
    {
     "data": {
      "text/html": [
       "<style>\n",
       ".list-inline {list-style: none; margin:0; padding: 0}\n",
       ".list-inline>li {display: inline-block}\n",
       ".list-inline>li:not(:last-child)::after {content: \"\\00b7\"; padding: 0 .5ex}\n",
       "</style>\n",
       "<ol class=list-inline><li>188.66</li><li>143.65</li><li>171.39</li><li>142.87</li><li>119.1</li><li>170.64</li><li>198</li><li>171.92</li><li>148.87</li><li>126.94</li></ol>\n"
      ],
      "text/latex": [
       "\\begin{enumerate*}\n",
       "\\item 188.66\n",
       "\\item 143.65\n",
       "\\item 171.39\n",
       "\\item 142.87\n",
       "\\item 119.1\n",
       "\\item 170.64\n",
       "\\item 198\n",
       "\\item 171.92\n",
       "\\item 148.87\n",
       "\\item 126.94\n",
       "\\end{enumerate*}\n"
      ],
      "text/markdown": [
       "1. 188.66\n",
       "2. 143.65\n",
       "3. 171.39\n",
       "4. 142.87\n",
       "5. 119.1\n",
       "6. 170.64\n",
       "7. 198\n",
       "8. 171.92\n",
       "9. 148.87\n",
       "10. 126.94\n",
       "\n",
       "\n"
      ],
      "text/plain": [
       " [1] 188.66 143.65 171.39 142.87 119.10 170.64 198.00 171.92 148.87 126.94"
      ]
     },
     "metadata": {},
     "output_type": "display_data"
    }
   ],
   "source": [
    "heigth_round <- round(heigth, 2)\n",
    "weight_round <- round(weight, 2)\n",
    "\n",
    "heigth_round\n",
    "weight_round"
   ]
  },
  {
   "cell_type": "markdown",
   "metadata": {},
   "source": [
    "Let's create a new data frame, called `hw`, which will record the heights and the weights of some people."
   ]
  },
  {
   "cell_type": "code",
   "execution_count": 31,
   "metadata": {
    "vscode": {
     "languageId": "r"
    }
   },
   "outputs": [],
   "source": [
    "hw <- data.frame(height = heigth_round, weight = weight_round)"
   ]
  },
  {
   "cell_type": "markdown",
   "metadata": {},
   "source": [
    "Let's try to see the structure of our dataset"
   ]
  },
  {
   "cell_type": "code",
   "execution_count": 34,
   "metadata": {
    "vscode": {
     "languageId": "r"
    }
   },
   "outputs": [
    {
     "data": {
      "text/html": [
       "<table class=\"dataframe\">\n",
       "<caption>A data.frame: 6 x 2</caption>\n",
       "<thead>\n",
       "\t<tr><th></th><th scope=col>height</th><th scope=col>weight</th></tr>\n",
       "\t<tr><th></th><th scope=col>&lt;dbl&gt;</th><th scope=col>&lt;dbl&gt;</th></tr>\n",
       "</thead>\n",
       "<tbody>\n",
       "\t<tr><th scope=row>1</th><td>157.87</td><td>188.66</td></tr>\n",
       "\t<tr><th scope=row>2</th><td>208.60</td><td>143.65</td></tr>\n",
       "\t<tr><th scope=row>3</th><td>155.37</td><td>171.39</td></tr>\n",
       "\t<tr><th scope=row>4</th><td>185.42</td><td>142.87</td></tr>\n",
       "\t<tr><th scope=row>5</th><td>186.81</td><td>119.10</td></tr>\n",
       "\t<tr><th scope=row>6</th><td>147.79</td><td>170.64</td></tr>\n",
       "</tbody>\n",
       "</table>\n"
      ],
      "text/latex": [
       "A data.frame: 6 x 2\n",
       "\\begin{tabular}{r|ll}\n",
       "  & height & weight\\\\\n",
       "  & <dbl> & <dbl>\\\\\n",
       "\\hline\n",
       "\t1 & 157.87 & 188.66\\\\\n",
       "\t2 & 208.60 & 143.65\\\\\n",
       "\t3 & 155.37 & 171.39\\\\\n",
       "\t4 & 185.42 & 142.87\\\\\n",
       "\t5 & 186.81 & 119.10\\\\\n",
       "\t6 & 147.79 & 170.64\\\\\n",
       "\\end{tabular}\n"
      ],
      "text/markdown": [
       "\n",
       "A data.frame: 6 x 2\n",
       "\n",
       "| <!--/--> | height &lt;dbl&gt; | weight &lt;dbl&gt; |\n",
       "|---|---|---|\n",
       "| 1 | 157.87 | 188.66 |\n",
       "| 2 | 208.60 | 143.65 |\n",
       "| 3 | 155.37 | 171.39 |\n",
       "| 4 | 185.42 | 142.87 |\n",
       "| 5 | 186.81 | 119.10 |\n",
       "| 6 | 147.79 | 170.64 |\n",
       "\n"
      ],
      "text/plain": [
       "  height weight\n",
       "1 157.87 188.66\n",
       "2 208.60 143.65\n",
       "3 155.37 171.39\n",
       "4 185.42 142.87\n",
       "5 186.81 119.10\n",
       "6 147.79 170.64"
      ]
     },
     "metadata": {},
     "output_type": "display_data"
    }
   ],
   "source": [
    "head(hw)"
   ]
  },
  {
   "cell_type": "markdown",
   "metadata": {},
   "source": [
    "As per tables, we can access to the columns of a dataframe with the `dataframe$column` syntax:"
   ]
  },
  {
   "cell_type": "code",
   "execution_count": 35,
   "metadata": {
    "vscode": {
     "languageId": "r"
    }
   },
   "outputs": [
    {
     "data": {
      "text/html": [
       "<style>\n",
       ".list-inline {list-style: none; margin:0; padding: 0}\n",
       ".list-inline>li {display: inline-block}\n",
       ".list-inline>li:not(:last-child)::after {content: \"\\00b7\"; padding: 0 .5ex}\n",
       "</style>\n",
       "<ol class=list-inline><li>157.87</li><li>208.6</li><li>155.37</li><li>185.42</li><li>186.81</li><li>147.79</li><li>173.45</li><li>191.46</li><li>132.18</li><li>156.64</li></ol>\n"
      ],
      "text/latex": [
       "\\begin{enumerate*}\n",
       "\\item 157.87\n",
       "\\item 208.6\n",
       "\\item 155.37\n",
       "\\item 185.42\n",
       "\\item 186.81\n",
       "\\item 147.79\n",
       "\\item 173.45\n",
       "\\item 191.46\n",
       "\\item 132.18\n",
       "\\item 156.64\n",
       "\\end{enumerate*}\n"
      ],
      "text/markdown": [
       "1. 157.87\n",
       "2. 208.6\n",
       "3. 155.37\n",
       "4. 185.42\n",
       "5. 186.81\n",
       "6. 147.79\n",
       "7. 173.45\n",
       "8. 191.46\n",
       "9. 132.18\n",
       "10. 156.64\n",
       "\n",
       "\n"
      ],
      "text/plain": [
       " [1] 157.87 208.60 155.37 185.42 186.81 147.79 173.45 191.46 132.18 156.64"
      ]
     },
     "metadata": {},
     "output_type": "display_data"
    }
   ],
   "source": [
    "hw$height"
   ]
  },
  {
   "cell_type": "markdown",
   "metadata": {},
   "source": [
    "---"
   ]
  },
  {
   "cell_type": "markdown",
   "metadata": {},
   "source": [
    "### 2.3) Functions"
   ]
  },
  {
   "cell_type": "markdown",
   "metadata": {},
   "source": [
    "In `R` is possible to create some functions. The syntax is the following:\n",
    "```R\n",
    "function_name <- function(args) {\n",
    "    # Insert the instructions here\n",
    "}\n",
    "```\n",
    "\n",
    "Just like in `Rust`, the last called element is the one that gets returned. Consider for instance the following example:"
   ]
  },
  {
   "cell_type": "code",
   "execution_count": 36,
   "metadata": {
    "vscode": {
     "languageId": "r"
    }
   },
   "outputs": [
    {
     "ename": "ERROR",
     "evalue": "Error in arg + 1: argomento non numerico passato ad un operatore binario\n",
     "output_type": "error",
     "traceback": [
      "Error in arg + 1: argomento non numerico passato ad un operatore binario\nTraceback:\n",
      "1. f(\"1\")"
     ]
    }
   ],
   "source": [
    "f <- function(arg) {\n",
    "    arg + 1\n",
    "}\n",
    "\n",
    "f(\"1\")"
   ]
  },
  {
   "cell_type": "markdown",
   "metadata": {},
   "source": [
    "Notice the error: you can't pass a string to an operator made for numerical values. It's important to respect the type of data that a function uses."
   ]
  },
  {
   "cell_type": "markdown",
   "metadata": {},
   "source": [
    "---"
   ]
  },
  {
   "cell_type": "markdown",
   "metadata": {},
   "source": [
    "### 2.4) Histograms more in detail"
   ]
  },
  {
   "cell_type": "markdown",
   "metadata": {},
   "source": [
    "When dealing with datasets, it might be helpful to draw histograms. We know that histograms are made with the `hist()` function. For instance, let's try to make the histogram of the `iris$Sepal.Length` variable:"
   ]
  },
  {
   "cell_type": "code",
   "execution_count": 37,
   "metadata": {
    "vscode": {
     "languageId": "r"
    }
   },
   "outputs": [
    {
     "data": {
      "image/png": "[encoded data removed]",
      "text/plain": [
       "Plot with title \"Histogram of iris$Sepal.Length\""
      ]
     },
     "metadata": {
      "image/png": {
       "height": 420,
       "width": 420
      }
     },
     "output_type": "display_data"
    }
   ],
   "source": [
    "histogram <- hist(iris$Sepal.Length)"
   ]
  },
  {
   "cell_type": "markdown",
   "metadata": {},
   "source": [
    "We can get some text information of the histogram by using the `str()` function, which is very similar to the `.toString()` `Java` method"
   ]
  },
  {
   "cell_type": "code",
   "execution_count": 38,
   "metadata": {
    "vscode": {
     "languageId": "r"
    }
   },
   "outputs": [
    {
     "name": "stdout",
     "output_type": "stream",
     "text": [
      "List of 6\n",
      " $ breaks  : num [1:9] 4 4.5 5 5.5 6 6.5 7 7.5 8\n",
      " $ counts  : int [1:8] 5 27 27 30 31 18 6 6\n",
      " $ density : num [1:8] 0.0667 0.36 0.36 0.4 0.4133 ...\n",
      " $ mids    : num [1:8] 4.25 4.75 5.25 5.75 6.25 6.75 7.25 7.75\n",
      " $ xname   : chr \"iris$Sepal.Length\"\n",
      " $ equidist: logi TRUE\n",
      " - attr(*, \"class\")= chr \"histogram\"\n"
     ]
    }
   ],
   "source": [
    "str(histogram)"
   ]
  },
  {
   "cell_type": "markdown",
   "metadata": {},
   "source": [
    "Of course, if we try to see the class of the histogram, we get that the type is `histogram`:"
   ]
  },
  {
   "cell_type": "code",
   "execution_count": 39,
   "metadata": {
    "vscode": {
     "languageId": "r"
    }
   },
   "outputs": [
    {
     "data": {
      "text/html": [
       "'histogram'"
      ],
      "text/latex": [
       "'histogram'"
      ],
      "text/markdown": [
       "'histogram'"
      ],
      "text/plain": [
       "[1] \"histogram\""
      ]
     },
     "metadata": {},
     "output_type": "display_data"
    }
   ],
   "source": [
    "class(histogram)"
   ]
  },
  {
   "cell_type": "markdown",
   "metadata": {},
   "source": [
    "The "
   ]
  }
 ],
 "metadata": {
  "kernelspec": {
   "display_name": "R",
   "language": "R",
   "name": "ir"
  },
  "language_info": {
   "codemirror_mode": "r",
   "file_extension": ".r",
   "mimetype": "text/x-r-source",
   "name": "R",
   "pygments_lexer": "r",
   "version": "4.3.2"
  }
 },
 "nbformat": 4,
 "nbformat_minor": 2
}
